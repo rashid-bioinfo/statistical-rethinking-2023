{
 "cells": [
  {
   "cell_type": "markdown",
   "id": "142b14ee-ab8b-4ec4-9021-bcde7a3f9d24",
   "metadata": {},
   "source": [
    "# Statistical Rethinking 2023\n",
    "## Lecture 2 - The Garden of Forking Data"
   ]
  },
  {
   "cell_type": "markdown",
   "id": "a7eec51a-e224-4dfc-bf46-f4646ca260cc",
   "metadata": {},
   "source": [
    "### 2.1 - Workflow\n",
    "\n",
    "1) Define generative model of the sample\n",
    "2) Define a specific estimand\n",
    "3) Design a statistical way to produce estimate\n",
    "4) Test (3) using (1)\n",
    "5) Analyze sample, summarize"
   ]
  },
  {
   "cell_type": "markdown",
   "id": "ebed6589-4895-4c27-b7bb-7a318249e3fc",
   "metadata": {},
   "source": [
    "### 2.1.1 - Generative model of the globe\n",
    "\n",
    "Begin conceptually: How do the variables influence one another?\n",
    "\n",
    "- p = proportion of water (*estimand)*\n",
    "- W = water observations\n",
    "- L = land observations\n",
    "- N = number of tosses"
   ]
  },
  {
   "cell_type": "markdown",
   "id": "d14c2f3f-5db6-4387-afdd-0e2757f13dca",
   "metadata": {},
   "source": [
    "### 2.1.2 - Define a specific estimand"
   ]
  },
  {
   "cell_type": "markdown",
   "id": "29979c4d-6ad0-4453-9407-3beb27ff74ba",
   "metadata": {},
   "source": [
    "![](img/1_lec02_the_garden_of_forking_data_1.jpg)"
   ]
  },
  {
   "cell_type": "markdown",
   "id": "4d9a61da-69cb-4c21-99f3-9c0f057a3804",
   "metadata": {},
   "source": [
    "$$\n",
    "W, L = f(p, N)\n",
    "$$\n"
   ]
  },
  {
   "cell_type": "markdown",
   "id": "7cd2d452-2d83-4ebe-b90e-adbbf56460bb",
   "metadata": {},
   "source": [
    "### 2.1.3 - Design a statistical way to produce estimate"
   ]
  },
  {
   "cell_type": "markdown",
   "id": "8ae0ec74-5d74-44c2-9169-6cafe0daeecd",
   "metadata": {},
   "source": [
    "##### Bayesian Data Analysis\n",
    "\n",
    "- For each possible explanation of the sample,\n",
    "- Count all the ways the sample could happen\n",
    "- Explanations with more ways to produce the sample are more plausible\n",
    "\n",
    "**For garden of forking data**, this analysis would be:\n",
    "- For each possible *proportion of water* on the globe,\n",
    "- Count all the ways the sample of tosses could happen\n",
    "- Proportion with more ways to prodcue the sample are more plausible "
   ]
  },
  {
   "cell_type": "markdown",
   "id": "efb5b646-7ec4-4af0-8ad2-fabc29bf8add",
   "metadata": {},
   "source": [
    "$$\n",
    "\\text{Ways for $p$ to produce W, L} = (4p)^W \\times (4 - 4p)^L\n",
    "$$\n"
   ]
  },
  {
   "cell_type": "markdown",
   "id": "b7bfaac6-25ee-4c33-b8bb-f6e1358b79b1",
   "metadata": {},
   "source": [
    "It is just a scaled version of $p^W (1 - p)^L\n",
    "$"
   ]
  },
  {
   "cell_type": "markdown",
   "id": "74a4718f-e83c-4a8d-b1d7-b65c74067c97",
   "metadata": {},
   "source": [
    "It means, If **$p$** is the chance of a success or win on a single trial, and you have **W** successes and **L** failures in **$W + L$** independent trial, the probability of exactly **W** wins and **L** losses is often written  (up to a **Binomial Coefficient**) as: "
   ]
  },
  {
   "cell_type": "markdown",
   "id": "9247608f-fe8d-46c7-aa9f-82012a5779f8",
   "metadata": {},
   "source": [
    "$$\n",
    "\\left(\\frac{W}{W+L}\\right) p^W (1 - p)^L\n",
    "$$\n"
   ]
  },
  {
   "cell_type": "markdown",
   "id": "061b6b37-6733-4b4f-8c9e-4caa660a92a6",
   "metadata": {},
   "source": [
    "**Why the factor of 4?**\n",
    "\n",
    "When building a discrete grid approximation of $p$, McElreath sometimes uses a small integer “denominator”—for instance, 4—to represent all possible fractions $p$ in increments of 0.25. If:\n",
    "\n",
    "- $p$ is the fraction representing “Water,”\n",
    "- then $4p$ is “how many out of 4” are Water,\n",
    "- and $4 - 4p$ is “how many out of 4” are Land.\n",
    "\n",
    "So instead of working directly with $p$ and $(1 - p)$, the model is effectively weighting each Water observation by $4p$ and each Land observation by $4(1 - p)$. That’s why you see:\n",
    "\n",
    "$$(4p)^W \\quad \\text{and} \\quad [\\,4(1 - p)\\,]^L.$$\n",
    "\n",
    "It’s just a scaled version of $p^W(1 - p)^L.$\n"
   ]
  },
  {
   "cell_type": "markdown",
   "id": "a4be9eb8-e7cd-4a80-b5fb-1bf70f097b89",
   "metadata": {},
   "source": [
    "\n",
    "<img src=\"img/2_lec02_the_garden_of_forking_data_2.jpg\" alt=\"Garden of Forking Data\" width=\"600px\" width=\"300px\">"
   ]
  },
  {
   "cell_type": "markdown",
   "id": "fd7f1abf-b54a-477a-bf87-4f4e7f901e59",
   "metadata": {},
   "source": [
    "### ************* CODE *************"
   ]
  },
  {
   "cell_type": "code",
   "execution_count": 3,
   "id": "582d2297-bf6f-43ac-aeba-e0a2bf8cd48c",
   "metadata": {},
   "outputs": [],
   "source": [
    "# Define sample \n",
    "sample <- c('W', 'L', 'W', 'W', 'W', 'L', 'W', 'L', 'W')"
   ]
  },
  {
   "cell_type": "code",
   "execution_count": 4,
   "id": "7a00f36d-530e-4e44-aac9-ba686e162825",
   "metadata": {},
   "outputs": [
    {
     "data": {
      "text/html": [
       "<style>\n",
       ".list-inline {list-style: none; margin:0; padding: 0}\n",
       ".list-inline>li {display: inline-block}\n",
       ".list-inline>li:not(:last-child)::after {content: \"\\00b7\"; padding: 0 .5ex}\n",
       "</style>\n",
       "<ol class=list-inline><li>6</li><li>3</li></ol>\n"
      ],
      "text/latex": [
       "\\begin{enumerate*}\n",
       "\\item 6\n",
       "\\item 3\n",
       "\\end{enumerate*}\n"
      ],
      "text/markdown": [
       "1. 6\n",
       "2. 3\n",
       "\n",
       "\n"
      ],
      "text/plain": [
       "[1] 6 3"
      ]
     },
     "metadata": {},
     "output_type": "display_data"
    }
   ],
   "source": [
    "# Count number of water and land in the sample\n",
    "W <- sum(sample == 'W')\n",
    "L <- sum(sample == 'L')\n",
    "c(W,L)"
   ]
  },
  {
   "cell_type": "code",
   "execution_count": 5,
   "id": "9879c121-587e-4206-a54b-c19656cd79c9",
   "metadata": {},
   "outputs": [
    {
     "data": {
      "text/html": [
       "<style>\n",
       ".list-inline {list-style: none; margin:0; padding: 0}\n",
       ".list-inline>li {display: inline-block}\n",
       ".list-inline>li:not(:last-child)::after {content: \"\\00b7\"; padding: 0 .5ex}\n",
       "</style>\n",
       "<ol class=list-inline><li>0</li><li>0.25</li><li>0.5</li><li>0.75</li><li>1</li></ol>\n"
      ],
      "text/latex": [
       "\\begin{enumerate*}\n",
       "\\item 0\n",
       "\\item 0.25\n",
       "\\item 0.5\n",
       "\\item 0.75\n",
       "\\item 1\n",
       "\\end{enumerate*}\n"
      ],
      "text/markdown": [
       "1. 0\n",
       "2. 0.25\n",
       "3. 0.5\n",
       "4. 0.75\n",
       "5. 1\n",
       "\n",
       "\n"
      ],
      "text/plain": [
       "[1] 0.00 0.25 0.50 0.75 1.00"
      ]
     },
     "metadata": {},
     "output_type": "display_data"
    }
   ],
   "source": [
    "# Possible propotion of water (p)\n",
    "p <- c(0, 0.25, 0.50, 0.75, 1)\n",
    "p"
   ]
  },
  {
   "cell_type": "code",
   "execution_count": 6,
   "id": "e46ad833-fa31-42e0-8860-9265c0125277",
   "metadata": {},
   "outputs": [
    {
     "data": {
      "text/html": [
       "<style>\n",
       ".list-inline {list-style: none; margin:0; padding: 0}\n",
       ".list-inline>li {display: inline-block}\n",
       ".list-inline>li:not(:last-child)::after {content: \"\\00b7\"; padding: 0 .5ex}\n",
       "</style>\n",
       "<ol class=list-inline><li>0</li><li>27</li><li>512</li><li>729</li><li>0</li></ol>\n"
      ],
      "text/latex": [
       "\\begin{enumerate*}\n",
       "\\item 0\n",
       "\\item 27\n",
       "\\item 512\n",
       "\\item 729\n",
       "\\item 0\n",
       "\\end{enumerate*}\n"
      ],
      "text/markdown": [
       "1. 0\n",
       "2. 27\n",
       "3. 512\n",
       "4. 729\n",
       "5. 0\n",
       "\n",
       "\n"
      ],
      "text/plain": [
       "[1]   0  27 512 729   0"
      ]
     },
     "metadata": {},
     "output_type": "display_data"
    }
   ],
   "source": [
    "# Write function to produce number of ways of sample\n",
    "# remember formula above\n",
    "# (4p)^W x (4-4p)^L\n",
    "# can also be written as:\n",
    "# (4p)^W x (4(1-p))^L\n",
    "# we will use sapply function that is explained below\n",
    "\n",
    "ways <- sapply(p, function(q) (4*q)^W * (4*(1-q))^L )\n",
    "ways"
   ]
  },
  {
   "cell_type": "code",
   "execution_count": 7,
   "id": "f39bbfe7-2ddf-4671-bf5f-1b0b34fed764",
   "metadata": {},
   "outputs": [
    {
     "data": {
      "text/html": [
       "<style>\n",
       ".list-inline {list-style: none; margin:0; padding: 0}\n",
       ".list-inline>li {display: inline-block}\n",
       ".list-inline>li:not(:last-child)::after {content: \"\\00b7\"; padding: 0 .5ex}\n",
       "</style>\n",
       "<ol class=list-inline><li>0</li><li>0.0212933753943218</li><li>0.403785488958991</li><li>0.574921135646688</li><li>0</li></ol>\n"
      ],
      "text/latex": [
       "\\begin{enumerate*}\n",
       "\\item 0\n",
       "\\item 0.0212933753943218\n",
       "\\item 0.403785488958991\n",
       "\\item 0.574921135646688\n",
       "\\item 0\n",
       "\\end{enumerate*}\n"
      ],
      "text/markdown": [
       "1. 0\n",
       "2. 0.0212933753943218\n",
       "3. 0.403785488958991\n",
       "4. 0.574921135646688\n",
       "5. 0\n",
       "\n",
       "\n"
      ],
      "text/plain": [
       "[1] 0.00000000 0.02129338 0.40378549 0.57492114 0.00000000"
      ]
     },
     "metadata": {},
     "output_type": "display_data"
    }
   ],
   "source": [
    "# Calculate probability of proportion\n",
    "prob <- ways/sum(ways)\n",
    "prob"
   ]
  },
  {
   "cell_type": "code",
   "execution_count": 8,
   "id": "f746dd61-5efe-457d-a5a7-5ad6b79e7790",
   "metadata": {},
   "outputs": [
    {
     "data": {
      "text/html": [
       "<style>\n",
       ".list-inline {list-style: none; margin:0; padding: 0}\n",
       ".list-inline>li {display: inline-block}\n",
       ".list-inline>li:not(:last-child)::after {content: \"\\00b7\"; padding: 0 .5ex}\n",
       "</style>\n",
       "<ol class=list-inline><li>0</li><li>0.02</li><li>0.4</li><li>0.57</li><li>0</li></ol>\n"
      ],
      "text/latex": [
       "\\begin{enumerate*}\n",
       "\\item 0\n",
       "\\item 0.02\n",
       "\\item 0.4\n",
       "\\item 0.57\n",
       "\\item 0\n",
       "\\end{enumerate*}\n"
      ],
      "text/markdown": [
       "1. 0\n",
       "2. 0.02\n",
       "3. 0.4\n",
       "4. 0.57\n",
       "5. 0\n",
       "\n",
       "\n"
      ],
      "text/plain": [
       "[1] 0.00 0.02 0.40 0.57 0.00"
      ]
     },
     "metadata": {},
     "output_type": "display_data"
    }
   ],
   "source": [
    "round(prob, 2)"
   ]
  },
  {
   "cell_type": "code",
   "execution_count": 9,
   "id": "9857729f-34c7-4711-a227-2723386da5de",
   "metadata": {},
   "outputs": [
    {
     "data": {
      "text/html": [
       "<table class=\"dataframe\">\n",
       "<caption>A matrix: 5 × 3 of type dbl</caption>\n",
       "<thead>\n",
       "\t<tr><th scope=col>p</th><th scope=col>ways</th><th scope=col>prob</th></tr>\n",
       "</thead>\n",
       "<tbody>\n",
       "\t<tr><td>0.00</td><td>  0</td><td>0.00</td></tr>\n",
       "\t<tr><td>0.25</td><td> 27</td><td>0.02</td></tr>\n",
       "\t<tr><td>0.50</td><td>512</td><td>0.40</td></tr>\n",
       "\t<tr><td>0.75</td><td>729</td><td>0.57</td></tr>\n",
       "\t<tr><td>1.00</td><td>  0</td><td>0.00</td></tr>\n",
       "</tbody>\n",
       "</table>\n"
      ],
      "text/latex": [
       "A matrix: 5 × 3 of type dbl\n",
       "\\begin{tabular}{lll}\n",
       " p & ways & prob\\\\\n",
       "\\hline\n",
       "\t 0.00 &   0 & 0.00\\\\\n",
       "\t 0.25 &  27 & 0.02\\\\\n",
       "\t 0.50 & 512 & 0.40\\\\\n",
       "\t 0.75 & 729 & 0.57\\\\\n",
       "\t 1.00 &   0 & 0.00\\\\\n",
       "\\end{tabular}\n"
      ],
      "text/markdown": [
       "\n",
       "A matrix: 5 × 3 of type dbl\n",
       "\n",
       "| p | ways | prob |\n",
       "|---|---|---|\n",
       "| 0.00 |   0 | 0.00 |\n",
       "| 0.25 |  27 | 0.02 |\n",
       "| 0.50 | 512 | 0.40 |\n",
       "| 0.75 | 729 | 0.57 |\n",
       "| 1.00 |   0 | 0.00 |\n",
       "\n"
      ],
      "text/plain": [
       "     p    ways prob\n",
       "[1,] 0.00   0  0.00\n",
       "[2,] 0.25  27  0.02\n",
       "[3,] 0.50 512  0.40\n",
       "[4,] 0.75 729  0.57\n",
       "[5,] 1.00   0  0.00"
      ]
     },
     "metadata": {},
     "output_type": "display_data"
    }
   ],
   "source": [
    "cbind(p, ways, prob=round(prob, 2))"
   ]
  },
  {
   "cell_type": "code",
   "execution_count": 10,
   "id": "4c6f2861-8829-46d3-a24b-c5ce6a5a66d1",
   "metadata": {},
   "outputs": [
    {
     "data": {
      "image/png": "[encoded data removed]",
      "text/plain": [
       "Plot with title \"Posterior Distribution\""
      ]
     },
     "metadata": {
      "image/png": {
       "height": 420,
       "width": 420
      }
     },
     "output_type": "display_data"
    }
   ],
   "source": [
    "# Create a bar plot\n",
    "barplot(\n",
    "  height = prob,\n",
    "  names.arg = p,\n",
    "  main = \"Posterior Distribution\",\n",
    "  xlab = \"Water proportion\",\n",
    "  ylab = \"Probability\",\n",
    "  col = \"skyblue\"\n",
    ")\n"
   ]
  },
  {
   "cell_type": "markdown",
   "id": "650bbfc2-87a4-4386-a79f-211db9b46e6b",
   "metadata": {},
   "source": [
    "#### ==> Explanation of CODE <==\n",
    "**Working of sapply function**\n"
   ]
  },
  {
   "cell_type": "code",
   "execution_count": 11,
   "id": "6db97e9f-66ca-46f2-a8da-b1fe7b793748",
   "metadata": {},
   "outputs": [
    {
     "data": {
      "text/html": [
       "<style>\n",
       ".list-inline {list-style: none; margin:0; padding: 0}\n",
       ".list-inline>li {display: inline-block}\n",
       ".list-inline>li:not(:last-child)::after {content: \"\\00b7\"; padding: 0 .5ex}\n",
       "</style>\n",
       "<ol class=list-inline><li>1</li><li>4</li><li>9</li><li>16</li><li>25</li></ol>\n"
      ],
      "text/latex": [
       "\\begin{enumerate*}\n",
       "\\item 1\n",
       "\\item 4\n",
       "\\item 9\n",
       "\\item 16\n",
       "\\item 25\n",
       "\\end{enumerate*}\n"
      ],
      "text/markdown": [
       "1. 1\n",
       "2. 4\n",
       "3. 9\n",
       "4. 16\n",
       "5. 25\n",
       "\n",
       "\n"
      ],
      "text/plain": [
       "[1]  1  4  9 16 25"
      ]
     },
     "metadata": {},
     "output_type": "display_data"
    }
   ],
   "source": [
    "# for example\n",
    "result <- sapply(1:5, function(x) x^2)\n",
    "result"
   ]
  },
  {
   "cell_type": "markdown",
   "id": "169bbfd0-2a2a-414d-b9b9-f5e2bcb27339",
   "metadata": {},
   "source": [
    "### 2.1.4 - Test (3) using (1) \n",
    "\n",
    "- *Testing statistical model using generative model*\n",
    "- *Code a generative simulation*"
   ]
  },
  {
   "cell_type": "markdown",
   "id": "e9002897-7e92-4af1-9e7a-5cae9db6dd00",
   "metadata": {},
   "source": [
    "#### `sample()` Function - General Syntax and Parameters\n",
    "\n",
    "The `sample()` function in R is used to randomly select elements from a vector. Below is the general syntax and a description of each parameter.\n",
    "\n",
    "```r\n",
    "sample(x, size, replace = FALSE, prob = NULL)\n",
    "# x: A vector of elements from which to sample.\n",
    "# size: The number of items to select.\n",
    "# replace: Logical; if TRUE, sampling is done with replacement.\n",
    "# prob: An optional vector of probability weights for sampling.\n"
   ]
  },
  {
   "cell_type": "code",
   "execution_count": 25,
   "id": "7183593a-e440-48d4-9577-859a88ea4088",
   "metadata": {},
   "outputs": [],
   "source": [
    "# Simulate a function to toss a globe\n",
    "# Number of tosses: N\n",
    "# proportion of land water with water: p\n",
    "# for 75% of land covered with water and tossing the globe for 10 times, following is function\n",
    "tossing_globe <- function(p=0.75,N=10){\n",
    "    sample(c('W', 'L'), size=N, prob=c(p, 1-p), replace=TRUE )\n",
    "}   "
   ]
  },
  {
   "cell_type": "code",
   "execution_count": 26,
   "id": "0d05eb14-1653-434a-ae68-713cc2a9bb35",
   "metadata": {},
   "outputs": [
    {
     "data": {
      "text/html": [
       "<style>\n",
       ".list-inline {list-style: none; margin:0; padding: 0}\n",
       ".list-inline>li {display: inline-block}\n",
       ".list-inline>li:not(:last-child)::after {content: \"\\00b7\"; padding: 0 .5ex}\n",
       "</style>\n",
       "<ol class=list-inline><li>'W'</li><li>'W'</li><li>'W'</li><li>'W'</li><li>'W'</li><li>'L'</li><li>'W'</li><li>'W'</li><li>'W'</li><li>'W'</li></ol>\n"
      ],
      "text/latex": [
       "\\begin{enumerate*}\n",
       "\\item 'W'\n",
       "\\item 'W'\n",
       "\\item 'W'\n",
       "\\item 'W'\n",
       "\\item 'W'\n",
       "\\item 'L'\n",
       "\\item 'W'\n",
       "\\item 'W'\n",
       "\\item 'W'\n",
       "\\item 'W'\n",
       "\\end{enumerate*}\n"
      ],
      "text/markdown": [
       "1. 'W'\n",
       "2. 'W'\n",
       "3. 'W'\n",
       "4. 'W'\n",
       "5. 'W'\n",
       "6. 'L'\n",
       "7. 'W'\n",
       "8. 'W'\n",
       "9. 'W'\n",
       "10. 'W'\n",
       "\n",
       "\n"
      ],
      "text/plain": [
       " [1] \"W\" \"W\" \"W\" \"W\" \"W\" \"L\" \"W\" \"W\" \"W\" \"W\""
      ]
     },
     "metadata": {},
     "output_type": "display_data"
    }
   ],
   "source": [
    "tossing_globe()"
   ]
  },
  {
   "cell_type": "code",
   "execution_count": 34,
   "id": "67978e00-d312-49d4-b77f-4c608d4c8fe7",
   "metadata": {},
   "outputs": [
    {
     "data": {
      "text/html": [
       "<style>\n",
       ".list-inline {list-style: none; margin:0; padding: 0}\n",
       ".list-inline>li {display: inline-block}\n",
       ".list-inline>li:not(:last-child)::after {content: \"\\00b7\"; padding: 0 .5ex}\n",
       "</style>\n",
       "<ol class=list-inline><li>'W'</li><li>'W'</li><li>'W'</li><li>'W'</li><li>'W'</li><li>'W'</li><li>'W'</li><li>'W'</li><li>'W'</li><li>'W'</li></ol>\n"
      ],
      "text/latex": [
       "\\begin{enumerate*}\n",
       "\\item 'W'\n",
       "\\item 'W'\n",
       "\\item 'W'\n",
       "\\item 'W'\n",
       "\\item 'W'\n",
       "\\item 'W'\n",
       "\\item 'W'\n",
       "\\item 'W'\n",
       "\\item 'W'\n",
       "\\item 'W'\n",
       "\\end{enumerate*}\n"
      ],
      "text/markdown": [
       "1. 'W'\n",
       "2. 'W'\n",
       "3. 'W'\n",
       "4. 'W'\n",
       "5. 'W'\n",
       "6. 'W'\n",
       "7. 'W'\n",
       "8. 'W'\n",
       "9. 'W'\n",
       "10. 'W'\n",
       "\n",
       "\n"
      ],
      "text/plain": [
       " [1] \"W\" \"W\" \"W\" \"W\" \"W\" \"W\" \"W\" \"W\" \"W\" \"W\""
      ]
     },
     "metadata": {},
     "output_type": "display_data"
    }
   ],
   "source": [
    "# Testing at exteme positions - 100% water\n",
    "tossing_globe(p=1, N=10)"
   ]
  },
  {
   "cell_type": "code",
   "execution_count": 35,
   "id": "0d56d117-e511-49e7-ba91-ca7866ff8686",
   "metadata": {},
   "outputs": [
    {
     "data": {
      "text/html": [
       "<style>\n",
       ".list-inline {list-style: none; margin:0; padding: 0}\n",
       ".list-inline>li {display: inline-block}\n",
       ".list-inline>li:not(:last-child)::after {content: \"\\00b7\"; padding: 0 .5ex}\n",
       "</style>\n",
       "<ol class=list-inline><li>'L'</li><li>'L'</li><li>'L'</li><li>'L'</li><li>'L'</li><li>'L'</li><li>'L'</li><li>'L'</li><li>'L'</li><li>'L'</li></ol>\n"
      ],
      "text/latex": [
       "\\begin{enumerate*}\n",
       "\\item 'L'\n",
       "\\item 'L'\n",
       "\\item 'L'\n",
       "\\item 'L'\n",
       "\\item 'L'\n",
       "\\item 'L'\n",
       "\\item 'L'\n",
       "\\item 'L'\n",
       "\\item 'L'\n",
       "\\item 'L'\n",
       "\\end{enumerate*}\n"
      ],
      "text/markdown": [
       "1. 'L'\n",
       "2. 'L'\n",
       "3. 'L'\n",
       "4. 'L'\n",
       "5. 'L'\n",
       "6. 'L'\n",
       "7. 'L'\n",
       "8. 'L'\n",
       "9. 'L'\n",
       "10. 'L'\n",
       "\n",
       "\n"
      ],
      "text/plain": [
       " [1] \"L\" \"L\" \"L\" \"L\" \"L\" \"L\" \"L\" \"L\" \"L\" \"L\""
      ]
     },
     "metadata": {},
     "output_type": "display_data"
    }
   ],
   "source": [
    "# Testing at exteme positions - 100% land\n",
    "tossing_globe(p=0, N=10)"
   ]
  },
  {
   "cell_type": "code",
   "execution_count": 36,
   "id": "d7140981-e983-411a-b3ba-c3a4cd1eefce",
   "metadata": {},
   "outputs": [
    {
     "data": {
      "text/html": [
       "<style>\n",
       ".list-inline {list-style: none; margin:0; padding: 0}\n",
       ".list-inline>li {display: inline-block}\n",
       ".list-inline>li:not(:last-child)::after {content: \"\\00b7\"; padding: 0 .5ex}\n",
       "</style>\n",
       "<ol class=list-inline><li>'L'</li><li>'W'</li><li>'L'</li><li>'W'</li><li>'L'</li><li>'W'</li><li>'L'</li><li>'W'</li><li>'W'</li><li>'W'</li></ol>\n"
      ],
      "text/latex": [
       "\\begin{enumerate*}\n",
       "\\item 'L'\n",
       "\\item 'W'\n",
       "\\item 'L'\n",
       "\\item 'W'\n",
       "\\item 'L'\n",
       "\\item 'W'\n",
       "\\item 'L'\n",
       "\\item 'W'\n",
       "\\item 'W'\n",
       "\\item 'W'\n",
       "\\end{enumerate*}\n"
      ],
      "text/markdown": [
       "1. 'L'\n",
       "2. 'W'\n",
       "3. 'L'\n",
       "4. 'W'\n",
       "5. 'L'\n",
       "6. 'W'\n",
       "7. 'L'\n",
       "8. 'W'\n",
       "9. 'W'\n",
       "10. 'W'\n",
       "\n",
       "\n"
      ],
      "text/plain": [
       " [1] \"L\" \"W\" \"L\" \"W\" \"L\" \"W\" \"L\" \"W\" \"W\" \"W\""
      ]
     },
     "metadata": {},
     "output_type": "display_data"
    }
   ],
   "source": [
    "# Testing at exteme positions - 50% water\n",
    "tossing_globe(p=0.5, N=10)"
   ]
  },
  {
   "cell_type": "code",
   "execution_count": 40,
   "id": "c7ea3880-d06d-4f76-808b-e94d4ea99482",
   "metadata": {},
   "outputs": [
    {
     "data": {
      "text/html": [
       "0.502"
      ],
      "text/latex": [
       "0.502"
      ],
      "text/markdown": [
       "0.502"
      ],
      "text/plain": [
       "[1] 0.502"
      ]
     },
     "metadata": {},
     "output_type": "display_data"
    }
   ],
   "source": [
    "# Testing - to see if it reutrns half of the values of water, when water porportion is 50%\n",
    "sum(tossing_globe(p=0.5, N=1e4) == 'W')/1e4"
   ]
  },
  {
   "cell_type": "code",
   "execution_count": 41,
   "id": "1c806ee3-4fce-4a2b-a722-3a1d7432358e",
   "metadata": {},
   "outputs": [
    {
     "data": {
      "text/html": [
       "<table class=\"dataframe\">\n",
       "<caption>A matrix: 10 × 20 of type chr</caption>\n",
       "<tbody>\n",
       "\t<tr><td>W</td><td>W</td><td>L</td><td>W</td><td>W</td><td>W</td><td>W</td><td>L</td><td>W</td><td>L</td><td>W</td><td>W</td><td>L</td><td>W</td><td>W</td><td>W</td><td>W</td><td>L</td><td>W</td><td>L</td></tr>\n",
       "\t<tr><td>W</td><td>W</td><td>L</td><td>W</td><td>W</td><td>L</td><td>W</td><td>L</td><td>W</td><td>W</td><td>W</td><td>W</td><td>L</td><td>W</td><td>W</td><td>W</td><td>W</td><td>W</td><td>W</td><td>W</td></tr>\n",
       "\t<tr><td>W</td><td>W</td><td>W</td><td>W</td><td>L</td><td>W</td><td>W</td><td>W</td><td>L</td><td>W</td><td>L</td><td>W</td><td>W</td><td>L</td><td>W</td><td>L</td><td>L</td><td>L</td><td>W</td><td>L</td></tr>\n",
       "\t<tr><td>L</td><td>W</td><td>W</td><td>W</td><td>W</td><td>W</td><td>L</td><td>W</td><td>W</td><td>W</td><td>W</td><td>W</td><td>W</td><td>W</td><td>W</td><td>L</td><td>L</td><td>W</td><td>L</td><td>W</td></tr>\n",
       "\t<tr><td>W</td><td>L</td><td>W</td><td>L</td><td>L</td><td>W</td><td>L</td><td>W</td><td>W</td><td>W</td><td>W</td><td>W</td><td>W</td><td>W</td><td>W</td><td>W</td><td>L</td><td>W</td><td>W</td><td>W</td></tr>\n",
       "\t<tr><td>W</td><td>W</td><td>L</td><td>W</td><td>L</td><td>W</td><td>W</td><td>W</td><td>W</td><td>W</td><td>W</td><td>L</td><td>W</td><td>W</td><td>W</td><td>W</td><td>W</td><td>W</td><td>W</td><td>W</td></tr>\n",
       "\t<tr><td>L</td><td>W</td><td>L</td><td>W</td><td>L</td><td>W</td><td>L</td><td>W</td><td>W</td><td>W</td><td>W</td><td>L</td><td>W</td><td>W</td><td>L</td><td>W</td><td>L</td><td>W</td><td>W</td><td>W</td></tr>\n",
       "\t<tr><td>W</td><td>W</td><td>W</td><td>W</td><td>W</td><td>L</td><td>L</td><td>W</td><td>L</td><td>W</td><td>W</td><td>L</td><td>W</td><td>W</td><td>W</td><td>L</td><td>L</td><td>W</td><td>W</td><td>W</td></tr>\n",
       "\t<tr><td>L</td><td>W</td><td>W</td><td>W</td><td>W</td><td>W</td><td>L</td><td>L</td><td>L</td><td>W</td><td>L</td><td>L</td><td>W</td><td>L</td><td>W</td><td>W</td><td>L</td><td>W</td><td>W</td><td>L</td></tr>\n",
       "\t<tr><td>W</td><td>W</td><td>W</td><td>L</td><td>L</td><td>W</td><td>W</td><td>W</td><td>W</td><td>L</td><td>W</td><td>W</td><td>W</td><td>W</td><td>L</td><td>W</td><td>W</td><td>W</td><td>W</td><td>L</td></tr>\n",
       "</tbody>\n",
       "</table>\n"
      ],
      "text/latex": [
       "A matrix: 10 × 20 of type chr\n",
       "\\begin{tabular}{llllllllllllllllllll}\n",
       "\t W & W & L & W & W & W & W & L & W & L & W & W & L & W & W & W & W & L & W & L\\\\\n",
       "\t W & W & L & W & W & L & W & L & W & W & W & W & L & W & W & W & W & W & W & W\\\\\n",
       "\t W & W & W & W & L & W & W & W & L & W & L & W & W & L & W & L & L & L & W & L\\\\\n",
       "\t L & W & W & W & W & W & L & W & W & W & W & W & W & W & W & L & L & W & L & W\\\\\n",
       "\t W & L & W & L & L & W & L & W & W & W & W & W & W & W & W & W & L & W & W & W\\\\\n",
       "\t W & W & L & W & L & W & W & W & W & W & W & L & W & W & W & W & W & W & W & W\\\\\n",
       "\t L & W & L & W & L & W & L & W & W & W & W & L & W & W & L & W & L & W & W & W\\\\\n",
       "\t W & W & W & W & W & L & L & W & L & W & W & L & W & W & W & L & L & W & W & W\\\\\n",
       "\t L & W & W & W & W & W & L & L & L & W & L & L & W & L & W & W & L & W & W & L\\\\\n",
       "\t W & W & W & L & L & W & W & W & W & L & W & W & W & W & L & W & W & W & W & L\\\\\n",
       "\\end{tabular}\n"
      ],
      "text/markdown": [
       "\n",
       "A matrix: 10 × 20 of type chr\n",
       "\n",
       "| W | W | L | W | W | W | W | L | W | L | W | W | L | W | W | W | W | L | W | L |\n",
       "| W | W | L | W | W | L | W | L | W | W | W | W | L | W | W | W | W | W | W | W |\n",
       "| W | W | W | W | L | W | W | W | L | W | L | W | W | L | W | L | L | L | W | L |\n",
       "| L | W | W | W | W | W | L | W | W | W | W | W | W | W | W | L | L | W | L | W |\n",
       "| W | L | W | L | L | W | L | W | W | W | W | W | W | W | W | W | L | W | W | W |\n",
       "| W | W | L | W | L | W | W | W | W | W | W | L | W | W | W | W | W | W | W | W |\n",
       "| L | W | L | W | L | W | L | W | W | W | W | L | W | W | L | W | L | W | W | W |\n",
       "| W | W | W | W | W | L | L | W | L | W | W | L | W | W | W | L | L | W | W | W |\n",
       "| L | W | W | W | W | W | L | L | L | W | L | L | W | L | W | W | L | W | W | L |\n",
       "| W | W | W | L | L | W | W | W | W | L | W | W | W | W | L | W | W | W | W | L |\n",
       "\n"
      ],
      "text/plain": [
       "      [,1] [,2] [,3] [,4] [,5] [,6] [,7] [,8] [,9] [,10] [,11] [,12] [,13]\n",
       " [1,] W    W    L    W    W    W    W    L    W    L     W     W     L    \n",
       " [2,] W    W    L    W    W    L    W    L    W    W     W     W     L    \n",
       " [3,] W    W    W    W    L    W    W    W    L    W     L     W     W    \n",
       " [4,] L    W    W    W    W    W    L    W    W    W     W     W     W    \n",
       " [5,] W    L    W    L    L    W    L    W    W    W     W     W     W    \n",
       " [6,] W    W    L    W    L    W    W    W    W    W     W     L     W    \n",
       " [7,] L    W    L    W    L    W    L    W    W    W     W     L     W    \n",
       " [8,] W    W    W    W    W    L    L    W    L    W     W     L     W    \n",
       " [9,] L    W    W    W    W    W    L    L    L    W     L     L     W    \n",
       "[10,] W    W    W    L    L    W    W    W    W    L     W     W     W    \n",
       "      [,14] [,15] [,16] [,17] [,18] [,19] [,20]\n",
       " [1,] W     W     W     W     L     W     L    \n",
       " [2,] W     W     W     W     W     W     W    \n",
       " [3,] L     W     L     L     L     W     L    \n",
       " [4,] W     W     L     L     W     L     W    \n",
       " [5,] W     W     W     L     W     W     W    \n",
       " [6,] W     W     W     W     W     W     W    \n",
       " [7,] W     L     W     L     W     W     W    \n",
       " [8,] W     W     L     L     W     W     W    \n",
       " [9,] L     W     W     L     W     W     L    \n",
       "[10,] W     L     W     W     W     W     L    "
      ]
     },
     "metadata": {},
     "output_type": "display_data"
    }
   ],
   "source": [
    "# Replication function\n",
    "replicate(tossing_globe(p=0.70, N=10), n=20)"
   ]
  },
  {
   "cell_type": "markdown",
   "id": "f458d45c-eac2-48ff-a0a7-3777762c07e0",
   "metadata": {},
   "source": [
    "## ---- *** ---- ##\n",
    "\n"
   ]
  },
  {
   "cell_type": "markdown",
   "id": "c46edca6-e7f3-43ed-ba22-6d26143ce7a9",
   "metadata": {},
   "source": [
    "## Understanding matrix operations"
   ]
  },
  {
   "cell_type": "markdown",
   "id": "8557ff0f-8a13-4d06-baf7-b6ea712013c9",
   "metadata": {},
   "source": [
    "### Simple Explanation of Matrix Operations in R\n",
    "\n",
    "A **matrix** in R is like a table or grid with rows and columns. Here’s how you can think about it:\n",
    "\n",
    "- **Accessing Elements:**  \n",
    "  Use square brackets `[]` with two parts:  \n",
    "  - The first part specifies the **row**.  \n",
    "  - The second part specifies the **column**.\n",
    "\n",
    "  For example, if you have a matrix called `mat`:\n",
    "  \n",
    "  - `mat[i, j]` gives you the element at the i-th row and j-th column.\n",
    "  - `mat[i, ]` gives you the entire i-th row (all columns).\n",
    "  - `mat[, j]` gives you the entire j-th column (all rows).\n",
    "\n",
    "- **Looping Over Rows:**  \n",
    "  When you want to print or process each row as a whole, you loop over the row indices. For example:\n",
    "\n",
    "  ```r\n",
    "  for (i in 1:nrow(mat)) {\n",
    "    print(mat[i, ])\n",
    "  }\n"
   ]
  },
  {
   "cell_type": "code",
   "execution_count": 83,
   "id": "38d0e113-80c0-428d-b7c5-42ceff494e53",
   "metadata": {},
   "outputs": [
    {
     "name": "stdout",
     "output_type": "stream",
     "text": [
      " [1] \"W\" \"W\" \"W\" \"W\" \"W\" \"W\" \"W\" \"W\" \"W\" \"L\"\n",
      " [1] \"L\" \"L\" \"W\" \"W\" \"L\" \"W\" \"W\" \"L\" \"L\" \"W\"\n",
      " [1] \"W\" \"W\" \"W\" \"L\" \"L\" \"W\" \"L\" \"L\" \"L\" \"W\"\n",
      " [1] \"L\" \"W\" \"W\" \"W\" \"W\" \"L\" \"W\" \"W\" \"W\" \"W\"\n",
      " [1] \"W\" \"L\" \"W\" \"W\" \"W\" \"W\" \"W\" \"W\" \"L\" \"W\"\n",
      " [1] \"L\" \"W\" \"L\" \"L\" \"W\" \"W\" \"W\" \"W\" \"W\" \"W\"\n",
      " [1] \"W\" \"L\" \"W\" \"W\" \"W\" \"W\" \"W\" \"L\" \"L\" \"L\"\n",
      " [1] \"L\" \"L\" \"W\" \"W\" \"L\" \"W\" \"W\" \"W\" \"W\" \"W\"\n",
      " [1] \"W\" \"W\" \"W\" \"W\" \"W\" \"W\" \"W\" \"L\" \"W\" \"W\"\n",
      " [1] \"W\" \"W\" \"W\" \"L\" \"W\" \"W\" \"L\" \"W\" \"L\" \"W\"\n"
     ]
    }
   ],
   "source": [
    "simulation_data = replicate(tossing_globe(p=0.70, N=10), n=10)\n",
    "for (i in 1:nrow(simulation_data)) {\n",
    "  print(simulation_data[i, ])\n",
    "}"
   ]
  },
  {
   "cell_type": "code",
   "execution_count": 90,
   "id": "47d96dcf-024a-4210-8183-fe5dc0c13907",
   "metadata": {},
   "outputs": [
    {
     "name": "stdout",
     "output_type": "stream",
     "text": [
      "[1] 0.8\n",
      "[1] 0.2\n",
      "[1] 0.5\n",
      "[1] 0.5\n",
      "[1] 0.6\n",
      "[1] 0.4\n",
      "[1] 0.6\n",
      "[1] 0.4\n",
      "[1] 0.7\n",
      "[1] 0.3\n",
      "[1] 0.8\n",
      "[1] 0.2\n",
      "[1] 0.5\n",
      "[1] 0.5\n",
      "[1] 0.6\n",
      "[1] 0.4\n",
      "[1] 0.6\n",
      "[1] 0.4\n",
      "[1] 0.9\n",
      "[1] 0.1\n"
     ]
    }
   ],
   "source": [
    "simulation_data = replicate(tossing_globe(p=0.70, N=10), n=10)\n",
    "for (i in 1:nrow(simulation_data)) {\n",
    "    print(sum(simulation_data[i, ] =='W')/10)\n",
    "}"
   ]
  },
  {
   "cell_type": "code",
   "execution_count": 59,
   "id": "266dabb6-2043-476e-85aa-fc4470f07449",
   "metadata": {},
   "outputs": [
    {
     "name": "stdout",
     "output_type": "stream",
     "text": [
      "      Toss_1 Toss_2 Toss_3 Toss_4 Toss_5 Toss_6 Toss_7 Toss_8 Toss_9 Toss_10\n",
      " [1,] \"L\"    \"W\"    \"W\"    \"L\"    \"W\"    \"L\"    \"L\"    \"L\"    \"W\"    \"W\"    \n",
      " [2,] \"W\"    \"W\"    \"W\"    \"W\"    \"W\"    \"W\"    \"L\"    \"W\"    \"L\"    \"W\"    \n",
      " [3,] \"W\"    \"W\"    \"W\"    \"W\"    \"W\"    \"W\"    \"L\"    \"W\"    \"W\"    \"L\"    \n",
      " [4,] \"W\"    \"W\"    \"W\"    \"L\"    \"W\"    \"W\"    \"W\"    \"W\"    \"W\"    \"W\"    \n",
      " [5,] \"L\"    \"L\"    \"W\"    \"W\"    \"W\"    \"W\"    \"L\"    \"W\"    \"W\"    \"W\"    \n",
      " [6,] \"L\"    \"W\"    \"W\"    \"W\"    \"L\"    \"L\"    \"W\"    \"W\"    \"W\"    \"W\"    \n",
      " [7,] \"W\"    \"L\"    \"W\"    \"W\"    \"W\"    \"W\"    \"W\"    \"W\"    \"W\"    \"L\"    \n",
      " [8,] \"W\"    \"W\"    \"L\"    \"L\"    \"W\"    \"W\"    \"L\"    \"L\"    \"L\"    \"W\"    \n",
      " [9,] \"L\"    \"W\"    \"W\"    \"L\"    \"W\"    \"W\"    \"W\"    \"W\"    \"W\"    \"W\"    \n",
      "[10,] \"W\"    \"L\"    \"W\"    \"W\"    \"L\"    \"L\"    \"W\"    \"L\"    \"W\"    \"W\"    \n"
     ]
    }
   ],
   "source": [
    "simulation_data = replicate(tossing_globe(p=0.70, N=10), n=10)\n",
    "mat = matrix(data=simulation_data, nrow=10, ncol=10, byrow=TRUE)\n",
    "colnames(mat) <- paste(\"Toss\", 1:10, sep = \"_\")\n",
    "print(mat)"
   ]
  },
  {
   "cell_type": "code",
   "execution_count": null,
   "id": "6026e3c9-a8c9-440f-bf8d-233188719c92",
   "metadata": {},
   "outputs": [],
   "source": []
  }
 ],
 "metadata": {
  "kernelspec": {
   "display_name": "R",
   "language": "R",
   "name": "ir"
  },
  "language_info": {
   "codemirror_mode": "r",
   "file_extension": ".r",
   "mimetype": "text/x-r-source",
   "name": "R",
   "pygments_lexer": "r",
   "version": "4.4.2"
  }
 },
 "nbformat": 4,
 "nbformat_minor": 5
}
